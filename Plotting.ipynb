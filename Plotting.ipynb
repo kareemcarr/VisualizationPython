{
 "cells": [
  {
   "cell_type": "markdown",
   "metadata": {},
   "source": [
    "<font color=#505050 size=3 face='arial black'>\n",
    "<p><font color=#13577F size=5 face='arial black'> A Quick Tour of Plotting in Python </font></p>\n",
    "\n",
    "<p><font color=#13577F face='arial black'>Matplotlib</font> is the main plotting library in python. It has two interfaces. If you google for solutions you will see both. You should always ignore any of the solutions that contain the word 'pylab' in favor of the solutions that are based on 'pyplot'.</p>\n",
    "\n",
    "<p>\n",
    "The <font color=#13577F face='arial black'>pylab(deprecated)</font> interface:\n",
    "Most simple, an attempt to replicate MATLAB plotting, but hides the workings of matplotlib, thus preventing the natural discovery of deeper concepts and features.</p>\n",
    "\n",
    "<p>The <font color=#13577F face='arial black'>pyplot</font> interface:\n",
    "Typically the right interface for most projects</p>\n",
    "\n",
    "<p>The <font color=#13577F face='arial black'>object-oriented </font> interface:\n",
    "Very advanced. Most challenging way to do plotting.</p>\n",
    "\n",
    "</font>"
   ]
  },
  {
   "cell_type": "code",
   "execution_count": null,
   "metadata": {
    "collapsed": true
   },
   "outputs": [],
   "source": [
    "%matplotlib inline"
   ]
  },
  {
   "cell_type": "code",
   "execution_count": null,
   "metadata": {
    "collapsed": false
   },
   "outputs": [],
   "source": [
    "import numpy as np\n",
    "import matplotlib.pyplot as plt\n",
    "\n",
    "x = np.linspace(0,10,10)\n",
    "y = x*x\n",
    "plt.plot(x,y,color='black')"
   ]
  },
  {
   "cell_type": "code",
   "execution_count": null,
   "metadata": {
    "collapsed": false
   },
   "outputs": [],
   "source": [
    "x = np.linspace(0,10,10)\n",
    "y = x*x\n",
    "plt.plot(x,y,linestyle='--', marker='o', color='b',linewidth=1)"
   ]
  },
  {
   "cell_type": "code",
   "execution_count": null,
   "metadata": {
    "collapsed": false
   },
   "outputs": [],
   "source": [
    "from sklearn.datasets import make_circles\n",
    "\n",
    "data = make_circles(n_samples=300,\n",
    "             shuffle=True, \n",
    "             noise=0.05, \n",
    "             random_state=None, \n",
    "             factor=0.5)\n",
    "y,X=data\n",
    "print(data)"
   ]
  },
  {
   "cell_type": "code",
   "execution_count": null,
   "metadata": {
    "collapsed": true
   },
   "outputs": [],
   "source": [
    "Z=np.column_stack((y,X))\n",
    "print(Z)"
   ]
  },
  {
   "cell_type": "code",
   "execution_count": null,
   "metadata": {
    "collapsed": false
   },
   "outputs": [],
   "source": [
    "import pandas as pd\n",
    "df = pd.DataFrame(Z,columns=['x','y','labels'])\n",
    "df.head()"
   ]
  },
  {
   "cell_type": "code",
   "execution_count": null,
   "metadata": {
    "collapsed": false
   },
   "outputs": [],
   "source": [
    "plt.scatter(df['x'],df['y'])"
   ]
  },
  {
   "cell_type": "code",
   "execution_count": null,
   "metadata": {
    "collapsed": false,
    "scrolled": true
   },
   "outputs": [],
   "source": [
    "%matplotlib nbagg\n",
    "plt.scatter(df['x'],df['y'])"
   ]
  },
  {
   "cell_type": "code",
   "execution_count": null,
   "metadata": {
    "collapsed": false
   },
   "outputs": [],
   "source": [
    "%matplotlib inline\n",
    "\n",
    "red_points= df[df['labels']==0]\n",
    "blue_points= df[df['labels']==1]\n",
    "\n",
    "plt.scatter(red_points['x'],red_points['y'],c='r')\n",
    "plt.scatter(blue_points['x'],blue_points['y'],c='b')\n",
    "\n",
    "plt.axis('equal')"
   ]
  },
  {
   "cell_type": "code",
   "execution_count": null,
   "metadata": {
    "collapsed": false
   },
   "outputs": [],
   "source": [
    "%matplotlib inline\n",
    "\n",
    "plt.style.use('ggplot')\n",
    "\n",
    "myblue,myred = [\"#348ABD\",\"#A60628\"]\n",
    "\n",
    "plt.figure(figsize=(8,8))\n",
    "\n",
    "red_points= df[df['labels']==0]\n",
    "blue_points= df[df['labels']==1]\n",
    "\n",
    "plt.xlabel('x axis', fontsize=16)\n",
    "plt.ylabel('y axis', fontsize=16)\n",
    "\n",
    "plt.title('Nested circles', fontsize=20)\n",
    "plt.scatter(red_points['x'],red_points['y'],c=myred,s=40)\n",
    "plt.scatter(blue_points['x'],blue_points['y'],c=myblue,s=20)\n",
    "\n",
    "plt.axis('equal')"
   ]
  },
  {
   "cell_type": "code",
   "execution_count": null,
   "metadata": {
    "collapsed": false
   },
   "outputs": [],
   "source": [
    "from sklearn.datasets import make_classification\n",
    "y,X = make_classification(n_samples=1000, \n",
    "                    n_features=2, \n",
    "                    n_classes=2,\n",
    "                    n_informative=2,\n",
    "                    n_redundant=0,\n",
    "                    n_clusters_per_class=2)\n",
    "\n",
    "Z=np.column_stack((y,X))\n",
    "df = pd.DataFrame(Z,columns=['x','y','labels'])\n",
    "df.head()\n",
    "\n",
    "red_points= df[df['labels']==0]\n",
    "blue_points= df[df['labels']==1]"
   ]
  },
  {
   "cell_type": "code",
   "execution_count": null,
   "metadata": {
    "collapsed": false
   },
   "outputs": [],
   "source": [
    "plt.scatter(red_points['x'],red_points['y'],color='red')\n",
    "plt.scatter(blue_points['x'],blue_points['y'],color='lightblue')\n",
    "plt.axis('equal')"
   ]
  },
  {
   "cell_type": "code",
   "execution_count": null,
   "metadata": {
    "collapsed": false
   },
   "outputs": [],
   "source": [
    "plt.hist(red_points['x'],color=myred,bins=30,alpha=0.7,label='red points')\n",
    "plt.hist(blue_points['x'],color=myblue,bins=30,alpha=0.7,label='blue points')\n",
    "plt.legend(loc='upper right')"
   ]
  },
  {
   "cell_type": "code",
   "execution_count": null,
   "metadata": {
    "collapsed": false,
    "scrolled": false
   },
   "outputs": [],
   "source": [
    "plt.figure(figsize=(12,10))\n",
    "plt.subplot(1,2,1)\n",
    "plt.hist(red_points['x'],color=myred,bins=30)\n",
    "plt.ylabel('x variable',fontsize=20)\n",
    "plt.subplot(1,2,2)\n",
    "plt.hist(blue_points['x'],color=myblue,bins=30)"
   ]
  },
  {
   "cell_type": "code",
   "execution_count": null,
   "metadata": {
    "collapsed": false,
    "scrolled": true
   },
   "outputs": [],
   "source": [
    "plt.figure(figsize=(12,10))\n",
    "plt.suptitle('One Title to Rule Them All',fontsize=30)\n",
    "plt.subplot(2,2,1)\n",
    "plt.ylabel('x variable', fontsize=20)\n",
    "plt.hist(red_points['x'],color=myred,bins=30)\n",
    "plt.subplot(2,2,2)\n",
    "plt.hist(blue_points['x'],color=myblue,bins=30)\n",
    "plt.subplot(2,2,3)\n",
    "plt.ylabel('y variable', fontsize=20)\n",
    "plt.hist(red_points['y'],color=myred,bins=30)\n",
    "plt.xlabel('red points', fontsize=20)\n",
    "plt.subplot(2,2,4)\n",
    "plt.hist(blue_points['y'],color=myblue,bins=30)\n",
    "plt.xlabel('blue points', fontsize=20)"
   ]
  },
  {
   "cell_type": "code",
   "execution_count": null,
   "metadata": {
    "collapsed": true
   },
   "outputs": [],
   "source": [
    "import pip\n",
    "pip.main(['install', 'seaborn'])"
   ]
  },
  {
   "cell_type": "code",
   "execution_count": null,
   "metadata": {
    "collapsed": false
   },
   "outputs": [],
   "source": [
    "import seaborn as sns\n",
    "sns.set_palette(\"BuPu_d\", desat=0.6)\n",
    "sns.set_context(\"notebook\", font_scale=2.0)\n",
    "sns.axes_style(\"white\")\n",
    "tips = sns.load_dataset(\"tips\")\n",
    "sns.jointplot(x='total_bill',y='tip', kind='scatter',size=16,data=tips);"
   ]
  },
  {
   "cell_type": "code",
   "execution_count": null,
   "metadata": {
    "collapsed": false,
    "scrolled": true
   },
   "outputs": [],
   "source": [
    "iris = pd.read_csv('iris.csv')\n",
    "pd.scatter_matrix(iris,figsize=(10,10))"
   ]
  },
  {
   "cell_type": "code",
   "execution_count": null,
   "metadata": {
    "collapsed": false
   },
   "outputs": [],
   "source": [
    "sns.pairplot(iris,hue='species',size=4.5)"
   ]
  },
  {
   "cell_type": "markdown",
   "metadata": {},
   "source": [
    "<p><font color=#13577F size=4 face='arial black'> Exercises </font></p>"
   ]
  },
  {
   "cell_type": "markdown",
   "metadata": {},
   "source": [
    "<font color=#505050 size=3 face='arial black'>\n",
    "<p>Try to make your own basic line plot using plt.plot using the first example in this notebook as a guide.</p>\n",
    "</font>"
   ]
  },
  {
   "cell_type": "code",
   "execution_count": null,
   "metadata": {
    "collapsed": true
   },
   "outputs": [],
   "source": []
  },
  {
   "cell_type": "markdown",
   "metadata": {},
   "source": [
    "<font color=#505050 size=3 face='arial black'>\n",
    "<p>Below is a comment string containing all possible marker types and line styles. Try a few out with your plot.</p>\n",
    "</font>"
   ]
  },
  {
   "cell_type": "code",
   "execution_count": null,
   "metadata": {
    "collapsed": false
   },
   "outputs": [],
   "source": [
    "\"\"\"-                solid line style\n",
    "   --               dashed line style\n",
    "   -.               dash-dot line style\n",
    "   :                dotted line style\n",
    "   .                point marker\n",
    "   ,                pixel marker\n",
    "   o                circle marker\n",
    "   v                triangle_down marker\n",
    "   ^                triangle_up marker\n",
    "   <                triangle_left marker\n",
    "   >                triangle_right marker\n",
    "   1                tri_down marker\n",
    "   2                tri_up marker\n",
    "   3                tri_left marker\n",
    "   4                tri_right marker\n",
    "   s                square marker\n",
    "   p                pentagon marker\n",
    "   *                star marker\n",
    "   h                hexagon1 marker\n",
    "   H                hexagon2 marker\n",
    "   +                plus marker\n",
    "   x                x marker\n",
    "   D                diamond marker\n",
    "   d                thin_diamond marker\n",
    "   |                vline marker\n",
    "   _                hline marker \"\"\";"
   ]
  },
  {
   "cell_type": "markdown",
   "metadata": {},
   "source": [
    "<font color=#505050 size=3 face='arial black'>\n",
    "<p>Run the following code and see what happens.</p>\n",
    "</font>"
   ]
  },
  {
   "cell_type": "code",
   "execution_count": null,
   "metadata": {
    "collapsed": true
   },
   "outputs": [],
   "source": [
    "plt.style.available"
   ]
  },
  {
   "cell_type": "markdown",
   "metadata": {},
   "source": [
    "<font color=#505050 size=3 face='arial black'>\n",
    "<p>Use the results from above and the code below to modify the look of your plot</p>\n",
    "</font>"
   ]
  },
  {
   "cell_type": "code",
   "execution_count": null,
   "metadata": {
    "collapsed": true
   },
   "outputs": [],
   "source": [
    "plt.style.use('ggplot')"
   ]
  },
  {
   "cell_type": "markdown",
   "metadata": {},
   "source": [
    "<font color=#505050 size=3 face='arial black'>\n",
    "<p>Make a 2 by 2 grid with your orignal plot in each facet but with at least one style element changed.</p>\n",
    "</font>"
   ]
  },
  {
   "cell_type": "code",
   "execution_count": null,
   "metadata": {
    "collapsed": true
   },
   "outputs": [],
   "source": []
  }
 ],
 "metadata": {
  "anaconda-cloud": {},
  "kernelspec": {
   "display_name": "Python [default]",
   "language": "python",
   "name": "python3"
  },
  "language_info": {
   "codemirror_mode": {
    "name": "ipython",
    "version": 3
   },
   "file_extension": ".py",
   "mimetype": "text/x-python",
   "name": "python",
   "nbconvert_exporter": "python",
   "pygments_lexer": "ipython3",
   "version": "3.5.2"
  }
 },
 "nbformat": 4,
 "nbformat_minor": 1
}
